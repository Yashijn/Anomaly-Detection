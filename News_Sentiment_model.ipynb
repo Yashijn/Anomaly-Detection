{
 "cells": [
  {
   "cell_type": "code",
   "execution_count": null,
   "metadata": {
    "colab": {
     "base_uri": "https://localhost:8080/"
    },
    "id": "BXpBMI_HFeKd",
    "outputId": "959205a8-2564-4014-9edc-9e0c6e12bab4"
   },
   "outputs": [],
   "source": [
    "!pip3 install ktrain"
   ]
  },
  {
   "cell_type": "code",
   "execution_count": 3,
   "metadata": {
    "id": "nxP9PMFsGTeD"
   },
   "outputs": [],
   "source": [
    "import numpy as np\n",
    "import pandas as pd\n",
    "import ktrain\n",
    "from ktrain import text\n",
    "import tensorflow as tf"
   ]
  },
  {
   "cell_type": "markdown",
   "metadata": {},
   "source": [
    "We will use BERT for classification. It takes only positive values so we converted our labels from 0 to 10 rather than -4 to 4. Distil Bert is faster and almost 60% paramteres of BERT and achieves approximate accuracy to BERT."
   ]
  },
  {
   "cell_type": "code",
   "execution_count": null,
   "metadata": {
    "colab": {
     "base_uri": "https://localhost:8080/"
    },
    "id": "dKSzyrpvG1zK",
    "outputId": "5c9792f2-39c6-416a-ba39-3df471a41795"
   },
   "outputs": [],
   "source": [
    "df = pd.read_csv('Stocks_Dataset.csv')\n",
    "df.reset_index(drop=True, inplace=True)\n",
    "df1 = pd.DataFrame\n",
    "df1 = df[['Date', 'Headlines', 'News', 'sentiment']]\n",
    "df1['News'] = df1.News.str.replace(\"(More)\",\"\")\n",
    "df1['News1']=  df1[\"Headlines\"].astype(str)+\" \"+df1[\"News\"].astype(str) \n",
    "df1.drop('Headlines',axis=1, inplace=True)\n",
    "df1.drop('News',axis=1,inplace=True)\n",
    "df1.drop('Date',axis=1,inplace=True)\n",
    "df1['sentiment']= df1['sentiment'].astype(int)\n",
    "df1['sentiment'] = df1['sentiment']+4\n",
    "df1.to_csv('train.csv')"
   ]
  },
  {
   "cell_type": "code",
   "execution_count": 29,
   "metadata": {
    "colab": {
     "base_uri": "https://localhost:8080/",
     "height": 203
    },
    "id": "bDIzFZAbL11M",
    "outputId": "e2720483-5372-4168-9b2e-c0cc9becc117"
   },
   "outputs": [
    {
     "data": {
      "text/html": [
       "<div>\n",
       "<style scoped>\n",
       "    .dataframe tbody tr th:only-of-type {\n",
       "        vertical-align: middle;\n",
       "    }\n",
       "\n",
       "    .dataframe tbody tr th {\n",
       "        vertical-align: top;\n",
       "    }\n",
       "\n",
       "    .dataframe thead th {\n",
       "        text-align: right;\n",
       "    }\n",
       "</style>\n",
       "<table border=\"1\" class=\"dataframe\">\n",
       "  <thead>\n",
       "    <tr style=\"text-align: right;\">\n",
       "      <th></th>\n",
       "      <th>sentiment</th>\n",
       "      <th>News1</th>\n",
       "    </tr>\n",
       "  </thead>\n",
       "  <tbody>\n",
       "    <tr>\n",
       "      <th>0</th>\n",
       "      <td>6</td>\n",
       "      <td>Aanchal Ispat: Outcome Of AGM    ×    Outcome ...</td>\n",
       "    </tr>\n",
       "    <tr>\n",
       "      <th>1</th>\n",
       "      <td>1</td>\n",
       "      <td>Aanchal Ispat's Board Meeting On August 14, 20...</td>\n",
       "    </tr>\n",
       "    <tr>\n",
       "      <th>2</th>\n",
       "      <td>9</td>\n",
       "      <td>Aanchal Ispat Standalone September 2018 Net Sa...</td>\n",
       "    </tr>\n",
       "    <tr>\n",
       "      <th>3</th>\n",
       "      <td>3</td>\n",
       "      <td>Ashika Credit: Outcome Of AGM    ×    The 24th...</td>\n",
       "    </tr>\n",
       "    <tr>\n",
       "      <th>4</th>\n",
       "      <td>5</td>\n",
       "      <td>Ashika Credit's Board Meeting Held On July 27,...</td>\n",
       "    </tr>\n",
       "  </tbody>\n",
       "</table>\n",
       "</div>"
      ],
      "text/plain": [
       "   sentiment                                              News1\n",
       "0          6  Aanchal Ispat: Outcome Of AGM    ×    Outcome ...\n",
       "1          1  Aanchal Ispat's Board Meeting On August 14, 20...\n",
       "2          9  Aanchal Ispat Standalone September 2018 Net Sa...\n",
       "3          3  Ashika Credit: Outcome Of AGM    ×    The 24th...\n",
       "4          5  Ashika Credit's Board Meeting Held On July 27,..."
      ]
     },
     "execution_count": 29,
     "metadata": {
      "tags": []
     },
     "output_type": "execute_result"
    }
   ],
   "source": [
    "df1.head()"
   ]
  },
  {
   "cell_type": "code",
   "execution_count": 5,
   "metadata": {
    "colab": {
     "base_uri": "https://localhost:8080/",
     "height": 554
    },
    "id": "4WABPVkSKgji",
    "outputId": "a5319dfd-eab4-4211-f344-1a03ab14a822"
   },
   "outputs": [
    {
     "name": "stdout",
     "output_type": "stream",
     "text": [
      "detected encoding: utf-8 (if wrong, set manually)\n",
      "['sentiment_0', 'sentiment_1', 'sentiment_2', 'sentiment_3', 'sentiment_4', 'sentiment_5', 'sentiment_6', 'sentiment_7', 'sentiment_8']\n",
      "      sentiment_0  sentiment_1  ...  sentiment_7  sentiment_8\n",
      "4960          0.0          1.0  ...          0.0          0.0\n",
      "613           0.0          0.0  ...          0.0          0.0\n",
      "5865          0.0          0.0  ...          0.0          0.0\n",
      "8220          0.0          0.0  ...          0.0          0.0\n",
      "2594          0.0          0.0  ...          0.0          0.0\n",
      "\n",
      "[5 rows x 9 columns]\n",
      "['sentiment_0', 'sentiment_1', 'sentiment_2', 'sentiment_3', 'sentiment_4', 'sentiment_5', 'sentiment_6', 'sentiment_7', 'sentiment_8']\n",
      "      sentiment_0  sentiment_1  ...  sentiment_7  sentiment_8\n",
      "4268          0.0          0.0  ...          0.0          0.0\n",
      "8353          0.0          0.0  ...          0.0          1.0\n",
      "12            0.0          0.0  ...          0.0          0.0\n",
      "1422          0.0          0.0  ...          0.0          0.0\n",
      "960           0.0          0.0  ...          0.0          0.0\n",
      "\n",
      "[5 rows x 9 columns]\n",
      "preprocessing train...\n",
      "language: en\n",
      "train sequence lengths:\n",
      "\tmean : 199\n",
      "\t95percentile : 555\n",
      "\t99percentile : 1038\n"
     ]
    },
    {
     "data": {
      "text/html": [],
      "text/plain": [
       "<IPython.core.display.HTML object>"
      ]
     },
     "metadata": {
      "tags": []
     },
     "output_type": "display_data"
    },
    {
     "name": "stdout",
     "output_type": "stream",
     "text": [
      "Is Multi-Label? False\n",
      "preprocessing test...\n",
      "language: en\n",
      "test sequence lengths:\n",
      "\tmean : 211\n",
      "\t95percentile : 557\n",
      "\t99percentile : 987\n"
     ]
    },
    {
     "data": {
      "text/html": [],
      "text/plain": [
       "<IPython.core.display.HTML object>"
      ]
     },
     "metadata": {
      "tags": []
     },
     "output_type": "display_data"
    }
   ],
   "source": [
    "NUM_WORDS = 500000\n",
    "MAXLEN = 512\n",
    "\n",
    "trn, val, preproc = text.texts_from_csv('train.csv',\n",
    "                     'News1',\n",
    "                     preprocess_mode='distilbert',\n",
    "                      label_columns = ['sentiment'],\n",
    "                      maxlen=MAXLEN,\n",
    "                      )"
   ]
  },
  {
   "cell_type": "code",
   "execution_count": 34,
   "metadata": {
    "colab": {
     "base_uri": "https://localhost:8080/"
    },
    "id": "Um69-pk8KpyW",
    "outputId": "a464183a-5f0d-4e94-bbaa-a22969e64e06"
   },
   "outputs": [
    {
     "name": "stdout",
     "output_type": "stream",
     "text": [
      "fasttext: a fastText-like model [http://arxiv.org/pdf/1607.01759.pdf]\n",
      "logreg: logistic regression using a trainable Embedding layer\n",
      "nbsvm: NBSVM model [http://www.aclweb.org/anthology/P12-2018]\n",
      "bigru: Bidirectional GRU with pretrained fasttext word vectors [https://fasttext.cc/docs/en/crawl-vectors.html]\n",
      "standard_gru: simple 2-layer GRU with randomly initialized embeddings\n",
      "bert: Bidirectional Encoder Representations from Transformers (BERT) from keras_bert [https://arxiv.org/abs/1810.04805]\n",
      "distilbert: distilled, smaller, and faster BERT from Hugging Face transformers [https://arxiv.org/abs/1910.01108]\n"
     ]
    }
   ],
   "source": [
    "text.print_text_classifiers()"
   ]
  },
  {
   "cell_type": "code",
   "execution_count": 6,
   "metadata": {
    "colab": {
     "base_uri": "https://localhost:8080/"
    },
    "id": "Ne_OWtVQKs6C",
    "outputId": "530c16fd-b793-464a-ed4b-a2a7f2cbbbb4"
   },
   "outputs": [
    {
     "name": "stdout",
     "output_type": "stream",
     "text": [
      "Is Multi-Label? False\n",
      "maxlen is 512\n",
      "done.\n"
     ]
    }
   ],
   "source": [
    "model = text.text_classifier('distilbert', train_data=trn, preproc=preproc)\n",
    "learner = ktrain.get_learner(model, train_data=trn, val_data=val, batch_size=10)"
   ]
  },
  {
   "cell_type": "code",
   "execution_count": null,
   "metadata": {
    "colab": {
     "base_uri": "https://localhost:8080/"
    },
    "id": "cgwTnobXK3BP",
    "outputId": "fd38cc87-1cce-46e4-a84c-4c15a4136abe"
   },
   "outputs": [
    {
     "name": "stdout",
     "output_type": "stream",
     "text": [
      "\n",
      "\n",
      "begin training using triangular learning rate policy with max lr of 0.001...\n",
      " 21/785 [..............................] - ETA: 6:53:01 - loss: 1.6781 - accuracy: 0.5429"
     ]
    }
   ],
   "source": [
    "learner.autofit(1e-3, 1)"
   ]
  },
  {
   "cell_type": "code",
   "execution_count": null,
   "metadata": {
    "id": "hGYpWaiAK7eF"
   },
   "outputs": [],
   "source": [
    "predictor = ktrain.get_predictor(learner.model, preproc)"
   ]
  },
  {
   "cell_type": "code",
   "execution_count": 43,
   "metadata": {
    "colab": {
     "base_uri": "https://localhost:8080/"
    },
    "id": "0xXBvqqKc2Vh",
    "outputId": "e348f28e-95dc-41a2-f874-0226e89345cb"
   },
   "outputs": [
    {
     "data": {
      "text/plain": [
       "7841"
      ]
     },
     "execution_count": 43,
     "metadata": {
      "tags": []
     },
     "output_type": "execute_result"
    }
   ],
   "source": [
    "len(trn)"
   ]
  },
  {
   "cell_type": "code",
   "execution_count": null,
   "metadata": {
    "id": "cOngDP4Bc3u3"
   },
   "outputs": [],
   "source": []
  }
 ],
 "metadata": {
  "colab": {
   "name": "Untitled12.ipynb",
   "provenance": []
  },
  "kernelspec": {
   "display_name": "Python 3",
   "language": "python",
   "name": "python3"
  },
  "language_info": {
   "codemirror_mode": {
    "name": "ipython",
    "version": 3
   },
   "file_extension": ".py",
   "mimetype": "text/x-python",
   "name": "python",
   "nbconvert_exporter": "python",
   "pygments_lexer": "ipython3",
   "version": "3.7.6"
  }
 },
 "nbformat": 4,
 "nbformat_minor": 1
}
