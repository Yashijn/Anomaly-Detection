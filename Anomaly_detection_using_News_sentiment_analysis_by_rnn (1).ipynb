{
  "nbformat": 4,
  "nbformat_minor": 0,
  "metadata": {
    "colab": {
      "name": "Anomaly detection using News sentiment analysis by rnn.ipynb",
      "provenance": [],
      "collapsed_sections": []
    },
    "kernelspec": {
      "name": "python3",
      "display_name": "Python 3"
    },
    "language_info": {
      "name": "python"
    }
  },
  "cells": [
    {
      "cell_type": "code",
      "metadata": {
        "id": "5xnH3_j8cC_v"
      },
      "source": [
        "import tensorflow as tf\n",
        "import tensorflow_datasets as tfds\n",
        "from tensorflow import keras\n",
        "import matplotlib.pyplot as plt\n",
        "import pandas as pd\n",
        "import numpy as np\n",
        "import seaborn as sns\n",
        "import datetime\n",
        "from datetime import date"
      ],
      "execution_count": null,
      "outputs": []
    },
    {
      "cell_type": "code",
      "metadata": {
        "id": "eghG6Hi3cPzp"
      },
      "source": [
        "BUFFER_SIZE = 10000\n",
        "BATCH_SIZE = 64"
      ],
      "execution_count": null,
      "outputs": []
    },
    {
      "cell_type": "markdown",
      "metadata": {
        "id": "DPZzt5WyUPXv"
      },
      "source": [
        "There is no dataset available on the internet containing news sentiments for financial or stock-market news.Hence we trained our rnn model on a dataset of IMDB Reviews which was the closest possible dataset."
      ]
    },
    {
      "cell_type": "code",
      "metadata": {
        "colab": {
          "base_uri": "https://localhost:8080/"
        },
        "id": "UXRGNyKPc9s5",
        "outputId": "c77333f3-244a-4bac-eaf6-7b552a74f781"
      },
      "source": [
        "dataSet, info = tfds.load('imdb_reviews/subwords8k', with_info=True, as_supervised=True)\n",
        "train_dataSet, test_dataSet = dataSet['train'], dataSet['test']\n",
        "encoder = info.features['text'].encoder"
      ],
      "execution_count": null,
      "outputs": [
        {
          "output_type": "stream",
          "text": [
            "WARNING:absl:TFDS datasets with text encoding are deprecated and will be removed in a future version. Instead, you should use the plain text version and tokenize the text using `tensorflow_text` (See: https://www.tensorflow.org/tutorials/tensorflow_text/intro#tfdata_example)\n"
          ],
          "name": "stderr"
        }
      ]
    },
    {
      "cell_type": "code",
      "metadata": {
        "colab": {
          "base_uri": "https://localhost:8080/"
        },
        "id": "lt_wUlWue6Jc",
        "outputId": "feec010a-5307-4b96-fc2b-1ec557c10cf6"
      },
      "source": [
        "from google.colab import drive\n",
        "drive.mount('/drive')"
      ],
      "execution_count": null,
      "outputs": [
        {
          "output_type": "stream",
          "text": [
            "Drive already mounted at /drive; to attempt to forcibly remount, call drive.mount(\"/drive\", force_remount=True).\n"
          ],
          "name": "stdout"
        }
      ]
    },
    {
      "cell_type": "markdown",
      "metadata": {
        "id": "A9U7KZuhUwHR"
      },
      "source": [
        "Loading a pre-trained moeel and making some modifications to it for better performance"
      ]
    },
    {
      "cell_type": "code",
      "metadata": {
        "id": "Y1Qga7tzdvIr"
      },
      "source": [
        "#load a previous model\n",
        "model = keras.models.load_model(\"/drive/My Drive/RNN_2020-04-17.h5\")"
      ],
      "execution_count": null,
      "outputs": []
    },
    {
      "cell_type": "code",
      "metadata": {
        "id": "Qg_wuuARfTVK"
      },
      "source": [
        "padded_shapes = ([None], ())\n",
        "train_dataSet = train_dataSet.shuffle(BUFFER_SIZE).padded_batch(BATCH_SIZE, padded_shapes=padded_shapes)\n",
        "test_dataSet = test_dataSet.padded_batch(BATCH_SIZE, padded_shapes=padded_shapes)"
      ],
      "execution_count": null,
      "outputs": []
    },
    {
      "cell_type": "code",
      "metadata": {
        "id": "LjVOVKi3fcGw"
      },
      "source": [
        "model = tf.keras.Sequential([tf.keras.layers.Embedding(encoder.vocab_size, 64),\n",
        "                                 tf.keras.layers.Bidirectional(tf.keras.layers.LSTM(64, return_sequences=True)),\n",
        "                                 tf.keras.layers.Bidirectional(tf.keras.layers.LSTM(32)),\n",
        "                                 tf.keras.layers.Dense(64, activation='relu'),\n",
        "                                 tf.keras.layers.Dropout(0.5),\n",
        "                                 tf.keras.layers.Dense(1, activation='sigmoid')])"
      ],
      "execution_count": null,
      "outputs": []
    },
    {
      "cell_type": "code",
      "metadata": {
        "id": "TRD_GMXEfhqU"
      },
      "source": [
        "model.compile(loss='binary_crossentropy',\n",
        "                  optimizer=tf.keras.optimizers.Adam(1e-4),\n",
        "                  metrics=['accuracy'])"
      ],
      "execution_count": null,
      "outputs": []
    },
    {
      "cell_type": "code",
      "metadata": {
        "colab": {
          "base_uri": "https://localhost:8080/"
        },
        "id": "nlr-AWm5fle-",
        "outputId": "c914bf76-c52a-4a6d-d5c2-7cdbe51d9843"
      },
      "source": [
        "fit_model = model.fit(train_dataSet, epochs=5, validation_data=test_dataSet, validation_steps=30)\n"
      ],
      "execution_count": null,
      "outputs": [
        {
          "output_type": "stream",
          "text": [
            "Epoch 1/5\n",
            "391/391 [==============================] - 1161s 3s/step - loss: 0.6444 - accuracy: 0.6074 - val_loss: 0.4573 - val_accuracy: 0.7964\n",
            "Epoch 2/5\n",
            "391/391 [==============================] - 1169s 3s/step - loss: 0.3573 - accuracy: 0.8597 - val_loss: 0.3470 - val_accuracy: 0.8604\n",
            "Epoch 3/5\n",
            "391/391 [==============================] - 1189s 3s/step - loss: 0.2647 - accuracy: 0.9056 - val_loss: 0.3319 - val_accuracy: 0.8604\n",
            "Epoch 4/5\n",
            "391/391 [==============================] - 1197s 3s/step - loss: 0.2206 - accuracy: 0.9268 - val_loss: 0.3388 - val_accuracy: 0.8693\n",
            "Epoch 5/5\n",
            "391/391 [==============================] - 1218s 3s/step - loss: 0.1841 - accuracy: 0.9424 - val_loss: 0.3663 - val_accuracy: 0.8620\n"
          ],
          "name": "stdout"
        }
      ]
    },
    {
      "cell_type": "code",
      "metadata": {
        "id": "X2MGZIQf24Zu"
      },
      "source": [
        "#model.save('RNN_news_sentiment.h5')"
      ],
      "execution_count": null,
      "outputs": []
    },
    {
      "cell_type": "code",
      "metadata": {
        "id": "hCAoK4VYx7LA"
      },
      "source": [
        "def pad_to_size(vec, size):\n",
        "  zeros = [0] * (size - len(vec))\n",
        "  vec.extend(zeros)\n",
        "  return vec"
      ],
      "execution_count": null,
      "outputs": []
    },
    {
      "cell_type": "code",
      "metadata": {
        "id": "Dy-uPB9iyFwY"
      },
      "source": [
        "def predict(post, pad):\n",
        "  encoded_sample_pred_text = encoder.encode(post)\n",
        "  if pad:\n",
        "      encoded_sample_pred_text = pad_to_size(encoded_sample_pred_text, 64)\n",
        "  encoded_sample_pred_text = tf.cast(encoded_sample_pred_text, tf.float32)\n",
        "  predictions = model.predict(tf.expand_dims(encoded_sample_pred_text, 0))\n",
        "  return predictions"
      ],
      "execution_count": null,
      "outputs": []
    },
    {
      "cell_type": "markdown",
      "metadata": {
        "id": "ZtX_gQO2yKu4"
      },
      "source": [
        "Now let us predict the sentiment of some financial news headlines"
      ]
    },
    {
      "cell_type": "code",
      "metadata": {
        "colab": {
          "base_uri": "https://localhost:8080/"
        },
        "id": "aaqwTiDzyRDr",
        "outputId": "13086fcc-a7cb-413b-876c-9bead8d85615"
      },
      "source": [
        "#Example of negative news\n",
        "sample_text = ('Govt affidavit to SC estimates a severe slash in vaccine doses from 216 crore to 135 crore for August-December 2021')\n",
        "prediction_ex = predict(sample_text, pad=True)\n",
        "prediction_ex"
      ],
      "execution_count": null,
      "outputs": [
        {
          "output_type": "execute_result",
          "data": {
            "text/plain": [
              "array([[0.37056643]], dtype=float32)"
            ]
          },
          "metadata": {
            "tags": []
          },
          "execution_count": 13
        }
      ]
    },
    {
      "cell_type": "code",
      "metadata": {
        "colab": {
          "base_uri": "https://localhost:8080/"
        },
        "id": "r3gCHTiDzQkK",
        "outputId": "cf0c3336-f64c-41a8-8588-4870b97cebd5"
      },
      "source": [
        "#Example of positive news\n",
        "sample_text_2 = ('Opportunity for Zomato to grow the market and revenues are huge: Jitesh Ranawat of Marwadi Shares')\n",
        "prediction_ex_2 = predict(sample_text_2, pad=True)\n",
        "prediction_ex_2"
      ],
      "execution_count": null,
      "outputs": [
        {
          "output_type": "execute_result",
          "data": {
            "text/plain": [
              "array([[0.94270337]], dtype=float32)"
            ]
          },
          "metadata": {
            "tags": []
          },
          "execution_count": 48
        }
      ]
    },
    {
      "cell_type": "code",
      "metadata": {
        "colab": {
          "base_uri": "https://localhost:8080/"
        },
        "id": "1y3Iy7KZzVoT",
        "outputId": "ad24237f-e351-4c6a-c118-67b520a256e1"
      },
      "source": [
        "#Example of neutral news\n",
        "sample_text_3 = ('Egyptian billionaire Naguib Sawiris says he will buy aviation stocks')\n",
        "prediction_ex_3 = predict(sample_text_3, pad=True)\n",
        "prediction_ex_3"
      ],
      "execution_count": null,
      "outputs": [
        {
          "output_type": "execute_result",
          "data": {
            "text/plain": [
              "array([[0.52793205]], dtype=float32)"
            ]
          },
          "metadata": {
            "tags": []
          },
          "execution_count": 50
        }
      ]
    },
    {
      "cell_type": "markdown",
      "metadata": {
        "id": "bM2dK7y1T_44"
      },
      "source": [
        "Okay, so the sentiment analysis of financial news by the trained rnn model is satisfactory .Time to scrape the news from Money-control"
      ]
    },
    {
      "cell_type": "code",
      "metadata": {
        "colab": {
          "base_uri": "https://localhost:8080/"
        },
        "id": "25nkzFas09S1",
        "outputId": "a122dc8c-b3c1-43f8-a24b-7c2541075b4b"
      },
      "source": [
        "!pip install bs4"
      ],
      "execution_count": null,
      "outputs": [
        {
          "output_type": "stream",
          "text": [
            "Requirement already satisfied: bs4 in /usr/local/lib/python3.7/dist-packages (0.0.1)\n",
            "Requirement already satisfied: beautifulsoup4 in /usr/local/lib/python3.7/dist-packages (from bs4) (4.6.3)\n"
          ],
          "name": "stdout"
        }
      ]
    },
    {
      "cell_type": "code",
      "metadata": {
        "colab": {
          "base_uri": "https://localhost:8080/"
        },
        "id": "SSCJ4kgF19lq",
        "outputId": "85dd121d-12bf-4b94-8c8a-afa8bbb42eec"
      },
      "source": [
        "!pip install requests"
      ],
      "execution_count": null,
      "outputs": [
        {
          "output_type": "stream",
          "text": [
            "Requirement already satisfied: requests in /usr/local/lib/python3.7/dist-packages (2.23.0)\n",
            "Requirement already satisfied: idna<3,>=2.5 in /usr/local/lib/python3.7/dist-packages (from requests) (2.10)\n",
            "Requirement already satisfied: urllib3!=1.25.0,!=1.25.1,<1.26,>=1.21.1 in /usr/local/lib/python3.7/dist-packages (from requests) (1.24.3)\n",
            "Requirement already satisfied: certifi>=2017.4.17 in /usr/local/lib/python3.7/dist-packages (from requests) (2021.5.30)\n",
            "Requirement already satisfied: chardet<4,>=3.0.2 in /usr/local/lib/python3.7/dist-packages (from requests) (3.0.4)\n"
          ],
          "name": "stdout"
        }
      ]
    },
    {
      "cell_type": "code",
      "metadata": {
        "colab": {
          "base_uri": "https://localhost:8080/"
        },
        "id": "pOL1jjc321pp",
        "outputId": "3fdd77d0-4233-4e36-e35f-d671219fdf99"
      },
      "source": [
        "!pip install yfinance"
      ],
      "execution_count": null,
      "outputs": [
        {
          "output_type": "stream",
          "text": [
            "Collecting yfinance\n",
            "  Downloading https://files.pythonhosted.org/packages/58/2d/0c91d633409cd1ac6e1f97ce30d67948748eb60999bed51c8daee83e2866/yfinance-0.1.62.tar.gz\n",
            "Requirement already satisfied: pandas>=0.24 in /usr/local/lib/python3.7/dist-packages (from yfinance) (1.1.5)\n",
            "Requirement already satisfied: numpy>=1.15 in /usr/local/lib/python3.7/dist-packages (from yfinance) (1.19.5)\n",
            "Requirement already satisfied: requests>=2.20 in /usr/local/lib/python3.7/dist-packages (from yfinance) (2.23.0)\n",
            "Requirement already satisfied: multitasking>=0.0.7 in /usr/local/lib/python3.7/dist-packages (from yfinance) (0.0.9)\n",
            "Collecting lxml>=4.5.1\n",
            "\u001b[?25l  Downloading https://files.pythonhosted.org/packages/30/c0/d0526314971fc661b083ab135747dc68446a3022686da8c16d25fcf6ef07/lxml-4.6.3-cp37-cp37m-manylinux2014_x86_64.whl (6.3MB)\n",
            "\u001b[K     |████████████████████████████████| 6.3MB 17.1MB/s \n",
            "\u001b[?25hRequirement already satisfied: pytz>=2017.2 in /usr/local/lib/python3.7/dist-packages (from pandas>=0.24->yfinance) (2018.9)\n",
            "Requirement already satisfied: python-dateutil>=2.7.3 in /usr/local/lib/python3.7/dist-packages (from pandas>=0.24->yfinance) (2.8.1)\n",
            "Requirement already satisfied: certifi>=2017.4.17 in /usr/local/lib/python3.7/dist-packages (from requests>=2.20->yfinance) (2021.5.30)\n",
            "Requirement already satisfied: urllib3!=1.25.0,!=1.25.1,<1.26,>=1.21.1 in /usr/local/lib/python3.7/dist-packages (from requests>=2.20->yfinance) (1.24.3)\n",
            "Requirement already satisfied: chardet<4,>=3.0.2 in /usr/local/lib/python3.7/dist-packages (from requests>=2.20->yfinance) (3.0.4)\n",
            "Requirement already satisfied: idna<3,>=2.5 in /usr/local/lib/python3.7/dist-packages (from requests>=2.20->yfinance) (2.10)\n",
            "Requirement already satisfied: six>=1.5 in /usr/local/lib/python3.7/dist-packages (from python-dateutil>=2.7.3->pandas>=0.24->yfinance) (1.15.0)\n",
            "Building wheels for collected packages: yfinance\n",
            "  Building wheel for yfinance (setup.py) ... \u001b[?25l\u001b[?25hdone\n",
            "  Created wheel for yfinance: filename=yfinance-0.1.62-py2.py3-none-any.whl size=23867 sha256=6a85b9b44714acbcd7b65ff9a1010ac76b384281a425fb59b43b68b745b373b0\n",
            "  Stored in directory: /root/.cache/pip/wheels/38/5c/4a/7266ab5120deea4efa7a6dd8f6f41e913b77500ec3397c9f01\n",
            "Successfully built yfinance\n",
            "Installing collected packages: lxml, yfinance\n",
            "  Found existing installation: lxml 4.2.6\n",
            "    Uninstalling lxml-4.2.6:\n",
            "      Successfully uninstalled lxml-4.2.6\n",
            "Successfully installed lxml-4.6.3 yfinance-0.1.62\n"
          ],
          "name": "stdout"
        }
      ]
    },
    {
      "cell_type": "code",
      "metadata": {
        "id": "MzPVCXtW0UGf"
      },
      "source": [
        "from bs4 import BeautifulSoup\n",
        "import re\n",
        "from datetime import datetime, timedelta\n",
        "import yfinance as yf\n",
        "import requests\n",
        "import time\n",
        "import os"
      ],
      "execution_count": null,
      "outputs": []
    },
    {
      "cell_type": "code",
      "metadata": {
        "colab": {
          "base_uri": "https://localhost:8080/"
        },
        "id": "RPSAoNoszsJQ",
        "outputId": "25428cbc-8e75-43fc-b328-aef28a345057"
      },
      "source": [
        "Base_url = 'https://www.moneycontrol.com/'\n",
        "List_of_links=[]\n",
        "all_dates=[]\n",
        "final_all_dates = []\n",
        "all_news = []\n",
        "all_headlines = []\n",
        "all_time=[]\n",
        "for i in range(2020,2022):\n",
        "    for j in range(1,10):\n",
        "        time2=[]\n",
        "        html = requests.get('https://www.moneycontrol.com/stocks/company_info/stock_news.php?sc_id=AE01&scat=&pageno='+str(j)+'&next=0&durationType=Y&Year='+str(i)+'&duration=1&news_type=')\n",
        "        soup = BeautifulSoup(html.text,'html.parser')\n",
        "        sub_links = soup.find_all('a', class_='arial11_summ')\n",
        "        if not sub_links:\n",
        "            break;\n",
        "        dates = soup.find_all('p', class_='PT3 a_10dgry')\n",
        "        dates = str(dates)\n",
        "        time1 = re.findall('([1-9]|1[0-2])(.[0-5][0-9][\\s][am|pm])', dates)\n",
        "        dates = re.findall('[0-9o/]{2}[\\s][A-Z]{1}[a-z]{2}[\\s][0-9O/]{4}[\\s]', dates)\n",
        "        dates = [x[:-1] for x in dates]\n",
        "        all_dates.extend(dates)\n",
        "        for k in range(0, len(time1)):\n",
        "            if k % 2:\n",
        "                continue\n",
        "            else :\n",
        "                time2.append(time1[k][0]+time1[k][1]+'m')\n",
        "        print(time2)\n",
        "        all_time.extend(time2)\n",
        "        for links in sub_links:\n",
        "            sp = BeautifulSoup(str(links),'html.parser')  \n",
        "            tag = sp.a\n",
        "            category_links = Base_url + tag[\"href\"]\n",
        "            List_of_links.append(category_links)\n",
        "            \n",
        "for links in List_of_links:\n",
        "    html = requests.get(links)\n",
        "    soup = BeautifulSoup(html.text,'html.parser')\n",
        "    Headlines = soup.find_all('title')\n",
        "    Headlines = str(Headlines)\n",
        "    Headlines = Headlines.strip(\"[<title>\")\n",
        "    Headlines = Headlines.strip(\"/title>]\")\n",
        "    Headlines = Headlines[ : -1]\n",
        "    all_headlines.append(Headlines)\n",
        "    if soup.find('div',{'class':'arti-flow'}):\n",
        "        news_text = soup.find('div',{'class':'arti-flow'})\n",
        "    for x in news_text.find_all(\"script\"):\n",
        "        x.decompose()\n",
        "    for y in news_text.find_all('style'):\n",
        "        y.decompose()\n",
        "    news_text.find_all('a')[-1].decompose()\n",
        "    news = news_text.text\n",
        "    news = news[news.find('More'):]\n",
        "    news = news.split(' ', 2)[2]\n",
        "    news = news.split(' ', 1)[1]\n",
        "    news = news.split(' ', 1)[1]\n",
        "    all_news.append(news)\n",
        "    \n",
        "for i in range(len(all_dates)):\n",
        "    date = all_dates[i].split(\" \")\n",
        "    month = {'Jan':'01','Feb':'02','Mar':'03','Apr':'04','May':'05','Jun':'06','Jul':'07','Aug':'08','Sep':'09','Oct':'10',\n",
        "             'Nov':'11','Dec':'12' }\n",
        "    date[1] = month[date[1]]\n",
        "    date.reverse()\n",
        "    date = '-'.join(date)\n",
        "    date = datetime.strptime(date, '%Y-%m-%d').date()\n",
        "    final_all_dates.append(date)\n",
        "    \n",
        "df = pd.DataFrame()\n",
        "df = pd.DataFrame(list(zip(all_time,final_all_dates, all_headlines, all_news)), columns =['Time','Date', 'Headlines', 'News'])"
      ],
      "execution_count": null,
      "outputs": [
        {
          "output_type": "stream",
          "text": [
            "['9.00 am', '4.22 pm', '9.04 pm', '6.40 pm', '4.41 pm', '9.08 am', '9.34 pm', '7.56 am', '9.08 am', '7.30 pm', '4.28 pm', '3.01 pm', '2.53 pm', '8.10 pm', '9.28 pm', '11.40 am', '5.20 pm', '11.30 am', '7.56 pm']\n",
            "['12.40 pm', '10.11 am', '9.33 am', '7.33 pm', '7.33 pm']\n",
            "['7.39 am', '2.09 pm', '10.39 am', '11.16 am', '10.38 am', '9.54 am', '10.11 am', '4.56 pm', '3.48 pm']\n"
          ],
          "name": "stdout"
        }
      ]
    },
    {
      "cell_type": "code",
      "metadata": {
        "colab": {
          "base_uri": "https://localhost:8080/",
          "height": 204
        },
        "id": "I8wVbPGh8JUE",
        "outputId": "d0720b10-2a1a-4166-f3e2-7ced7046817f"
      },
      "source": [
        "df.head()"
      ],
      "execution_count": null,
      "outputs": [
        {
          "output_type": "execute_result",
          "data": {
            "text/html": [
              "<div>\n",
              "<style scoped>\n",
              "    .dataframe tbody tr th:only-of-type {\n",
              "        vertical-align: middle;\n",
              "    }\n",
              "\n",
              "    .dataframe tbody tr th {\n",
              "        vertical-align: top;\n",
              "    }\n",
              "\n",
              "    .dataframe thead th {\n",
              "        text-align: right;\n",
              "    }\n",
              "</style>\n",
              "<table border=\"1\" class=\"dataframe\">\n",
              "  <thead>\n",
              "    <tr style=\"text-align: right;\">\n",
              "      <th></th>\n",
              "      <th>Time</th>\n",
              "      <th>Date</th>\n",
              "      <th>Headlines</th>\n",
              "      <th>News</th>\n",
              "    </tr>\n",
              "  </thead>\n",
              "  <tbody>\n",
              "    <tr>\n",
              "      <th>0</th>\n",
              "      <td>9.00 am</td>\n",
              "      <td>2020-11-06</td>\n",
              "      <td>Adani Enterpris Standalone September 2020 Net ...</td>\n",
              "      <td>Reported Standalone quarterly numbers for Ada...</td>\n",
              "    </tr>\n",
              "    <tr>\n",
              "      <th>1</th>\n",
              "      <td>4.22 pm</td>\n",
              "      <td>2020-11-05</td>\n",
              "      <td>Adani Enterpris Consolidated September 2020 Ne...</td>\n",
              "      <td>Reported Consolidated quarterly numbers for A...</td>\n",
              "    </tr>\n",
              "    <tr>\n",
              "      <th>2</th>\n",
              "      <td>9.04 pm</td>\n",
              "      <td>2020-11-04</td>\n",
              "      <td>Adani Enterprises To Invest Rs 50,000 Crore On...</td>\n",
              "      <td>Adani Group's flagship firm Adani Enterprises...</td>\n",
              "    </tr>\n",
              "    <tr>\n",
              "      <th>3</th>\n",
              "      <td>6.40 pm</td>\n",
              "      <td>2020-11-04</td>\n",
              "      <td>Adani Enterprises Posts Rs 436 Crore Quarterly...</td>\n",
              "      <td>Turning profitable in the September quarter, ...</td>\n",
              "    </tr>\n",
              "    <tr>\n",
              "      <th>4</th>\n",
              "      <td>4.41 pm</td>\n",
              "      <td>2020-08-25</td>\n",
              "      <td>Kerala HC Refuses To Stay Privatisation Of Thi...</td>\n",
              "      <td>The Kerala High Court on Tuesday declined to ...</td>\n",
              "    </tr>\n",
              "  </tbody>\n",
              "</table>\n",
              "</div>"
            ],
            "text/plain": [
              "      Time  ...                                               News\n",
              "0  9.00 am  ...   Reported Standalone quarterly numbers for Ada...\n",
              "1  4.22 pm  ...   Reported Consolidated quarterly numbers for A...\n",
              "2  9.04 pm  ...   Adani Group's flagship firm Adani Enterprises...\n",
              "3  6.40 pm  ...   Turning profitable in the September quarter, ...\n",
              "4  4.41 pm  ...   The Kerala High Court on Tuesday declined to ...\n",
              "\n",
              "[5 rows x 4 columns]"
            ]
          },
          "metadata": {
            "tags": []
          },
          "execution_count": 21
        }
      ]
    },
    {
      "cell_type": "code",
      "metadata": {
        "id": "m5kuYpdW82Bl"
      },
      "source": [
        "df['Compound'] = df['Headlines'].apply(lambda headline: float(predict(headline, pad=True)))"
      ],
      "execution_count": null,
      "outputs": []
    },
    {
      "cell_type": "markdown",
      "metadata": {
        "id": "gQ1s3_e6TjLX"
      },
      "source": [
        "Now we are naming the sentiment of the news based on their compound score.\n",
        "\n",
        "1) Positive= 0.5-1.0\n",
        "\n",
        "2) Neutral=  0.5\n",
        "\n",
        "3) Negative= 0.0-0.5"
      ]
    },
    {
      "cell_type": "code",
      "metadata": {
        "id": "RfCoOai09fcM"
      },
      "source": [
        "def sentiment_declaration(sentiment_value):\n",
        "  if sentiment_value == 0.5:\n",
        "      return 'neu'\n",
        "  elif 0.5 < sentiment_value <= 1.0:\n",
        "      return 'pos'\n",
        "  elif 0.0 < sentiment_value <= 0.5:\n",
        "      return 'neg'"
      ],
      "execution_count": null,
      "outputs": []
    },
    {
      "cell_type": "code",
      "metadata": {
        "id": "Z_Ueso7t9jYs"
      },
      "source": [
        "df['Sentiment'] = df['Compound'].apply(lambda value: sentiment_declaration(value))"
      ],
      "execution_count": null,
      "outputs": []
    },
    {
      "cell_type": "code",
      "metadata": {
        "colab": {
          "base_uri": "https://localhost:8080/",
          "height": 204
        },
        "id": "qwZSwJOK9yh1",
        "outputId": "83b14fa2-1ef6-4808-82b0-dfb4f43170aa"
      },
      "source": [
        "df.head()"
      ],
      "execution_count": null,
      "outputs": [
        {
          "output_type": "execute_result",
          "data": {
            "text/html": [
              "<div>\n",
              "<style scoped>\n",
              "    .dataframe tbody tr th:only-of-type {\n",
              "        vertical-align: middle;\n",
              "    }\n",
              "\n",
              "    .dataframe tbody tr th {\n",
              "        vertical-align: top;\n",
              "    }\n",
              "\n",
              "    .dataframe thead th {\n",
              "        text-align: right;\n",
              "    }\n",
              "</style>\n",
              "<table border=\"1\" class=\"dataframe\">\n",
              "  <thead>\n",
              "    <tr style=\"text-align: right;\">\n",
              "      <th></th>\n",
              "      <th>Time</th>\n",
              "      <th>Date</th>\n",
              "      <th>Headlines</th>\n",
              "      <th>News</th>\n",
              "      <th>Compound</th>\n",
              "      <th>Sentiment</th>\n",
              "    </tr>\n",
              "  </thead>\n",
              "  <tbody>\n",
              "    <tr>\n",
              "      <th>0</th>\n",
              "      <td>9.00 am</td>\n",
              "      <td>2020-11-06</td>\n",
              "      <td>Adani Enterpris Standalone September 2020 Net ...</td>\n",
              "      <td>Reported Standalone quarterly numbers for Ada...</td>\n",
              "      <td>0.830681</td>\n",
              "      <td>pos</td>\n",
              "    </tr>\n",
              "    <tr>\n",
              "      <th>1</th>\n",
              "      <td>4.22 pm</td>\n",
              "      <td>2020-11-05</td>\n",
              "      <td>Adani Enterpris Consolidated September 2020 Ne...</td>\n",
              "      <td>Reported Consolidated quarterly numbers for A...</td>\n",
              "      <td>0.510388</td>\n",
              "      <td>pos</td>\n",
              "    </tr>\n",
              "    <tr>\n",
              "      <th>2</th>\n",
              "      <td>9.04 pm</td>\n",
              "      <td>2020-11-04</td>\n",
              "      <td>Adani Enterprises To Invest Rs 50,000 Crore On...</td>\n",
              "      <td>Adani Group's flagship firm Adani Enterprises...</td>\n",
              "      <td>0.326735</td>\n",
              "      <td>neg</td>\n",
              "    </tr>\n",
              "    <tr>\n",
              "      <th>3</th>\n",
              "      <td>6.40 pm</td>\n",
              "      <td>2020-11-04</td>\n",
              "      <td>Adani Enterprises Posts Rs 436 Crore Quarterly...</td>\n",
              "      <td>Turning profitable in the September quarter, ...</td>\n",
              "      <td>0.555708</td>\n",
              "      <td>pos</td>\n",
              "    </tr>\n",
              "    <tr>\n",
              "      <th>4</th>\n",
              "      <td>4.41 pm</td>\n",
              "      <td>2020-08-25</td>\n",
              "      <td>Kerala HC Refuses To Stay Privatisation Of Thi...</td>\n",
              "      <td>The Kerala High Court on Tuesday declined to ...</td>\n",
              "      <td>0.233357</td>\n",
              "      <td>neg</td>\n",
              "    </tr>\n",
              "  </tbody>\n",
              "</table>\n",
              "</div>"
            ],
            "text/plain": [
              "      Time        Date  ...  Compound Sentiment\n",
              "0  9.00 am  2020-11-06  ...  0.830681       pos\n",
              "1  4.22 pm  2020-11-05  ...  0.510388       pos\n",
              "2  9.04 pm  2020-11-04  ...  0.326735       neg\n",
              "3  6.40 pm  2020-11-04  ...  0.555708       pos\n",
              "4  4.41 pm  2020-08-25  ...  0.233357       neg\n",
              "\n",
              "[5 rows x 6 columns]"
            ]
          },
          "metadata": {
            "tags": []
          },
          "execution_count": 25
        }
      ]
    },
    {
      "cell_type": "markdown",
      "metadata": {
        "id": "KMeAyt2HAG_W"
      },
      "source": [
        "For the most part ,rnn performs well on the news sentiment with the exception of 1-2 news."
      ]
    },
    {
      "cell_type": "code",
      "metadata": {
        "colab": {
          "base_uri": "https://localhost:8080/"
        },
        "id": "mWdwPLGNAOLf",
        "outputId": "60056464-c08d-4cbf-f3ba-32575f04e828"
      },
      "source": [
        "sentiment_result = {}\n",
        "for value in df['Sentiment']:\n",
        "  if value in sentiment_result:\n",
        "    if value == 'neu':\n",
        "      sentiment_result['neu'] += 1\n",
        "    elif value == 'pos':\n",
        "      sentiment_result['pos'] += 1\n",
        "    elif value == 'neg':\n",
        "      sentiment_result['neg'] += 1\n",
        "  else:\n",
        "    sentiment_result[value] = 1\n",
        "\n",
        "sentiment_result"
      ],
      "execution_count": null,
      "outputs": [
        {
          "output_type": "execute_result",
          "data": {
            "text/plain": [
              "{'neg': 17, 'pos': 16}"
            ]
          },
          "metadata": {
            "tags": []
          },
          "execution_count": 26
        }
      ]
    },
    {
      "cell_type": "code",
      "metadata": {
        "colab": {
          "base_uri": "https://localhost:8080/",
          "height": 334
        },
        "id": "f1C486ZaBxnp",
        "outputId": "6c41f8de-3e4c-419c-9c07-5cf2c48cf93d"
      },
      "source": [
        "sentiment = list(sentiment_result.keys())\n",
        "values = list(sentiment_result.values())\n",
        "  \n",
        "fig = plt.figure(figsize = (8, 5))\n",
        " \n",
        "# creating the bar plot\n",
        "plt.bar(sentiment, values, color ='maroon',width = 0.1)\n",
        "plt.xlabel(\"Sentiment\")\n",
        "plt.ylabel(\"No. of news\")\n",
        "plt.show()"
      ],
      "execution_count": null,
      "outputs": [
        {
          "output_type": "display_data",
          "data": {
            "image/png": "[encoded data removed]",
            "text/plain": [
              "<Figure size 576x360 with 1 Axes>"
            ]
          },
          "metadata": {
            "tags": [],
            "needs_background": "light"
          }
        }
      ]
    },
    {
      "cell_type": "code",
      "metadata": {
        "id": "bSr5DOI7Dcvy"
      },
      "source": [
        "def percentage(part, whole):\n",
        "  temp = 100 * float(part) / float(whole)\n",
        "  return format(temp, '.2f')"
      ],
      "execution_count": null,
      "outputs": []
    },
    {
      "cell_type": "code",
      "metadata": {
        "id": "CR7oURskDNvG"
      },
      "source": [
        "def visualization(positive, neutral, negative):\n",
        "  labels = ['Positive [' + str(positive) + '%]','Neutral [' + str(neutral) + '%]',\n",
        "            'Negative [' + str(negative) + '%]']\n",
        "  sizes = [positive, neutral, negative]\n",
        "  colors = ['lightgreen', 'gold', 'red']\n",
        "  patches, texts = plt.pie(sizes, colors=colors, startangle=90)\n",
        "  plt.title('Aggregate sentiment value of the financial news headlines')\n",
        "  plt.legend(patches, labels, loc=\"best\")\n",
        "  plt.axis('equal')\n",
        "  plt.tight_layout()\n",
        "  plt.show()"
      ],
      "execution_count": null,
      "outputs": []
    },
    {
      "cell_type": "code",
      "metadata": {
        "colab": {
          "base_uri": "https://localhost:8080/",
          "height": 297
        },
        "id": "WiyvzNI3Eh06",
        "outputId": "4d2b8d59-5b09-4fab-9854-21e5593f8824"
      },
      "source": [
        "all_num = sentiment_result['pos'] + sentiment_result['neg']\n",
        "pos_percent = percentage(part=sentiment_result['pos'], whole=all_num)\n",
        "neg_percent = percentage(part=sentiment_result['neg'], whole=all_num)\n",
        "\n",
        "visualization(positive=pos_percent,neutral=0, negative=neg_percent)"
      ],
      "execution_count": null,
      "outputs": [
        {
          "output_type": "display_data",
          "data": {
            "image/png": "[encoded data removed]",
            "text/plain": [
              "<Figure size 432x288 with 1 Axes>"
            ]
          },
          "metadata": {
            "tags": []
          }
        }
      ]
    },
    {
      "cell_type": "markdown",
      "metadata": {
        "id": "R640bVPuS1--"
      },
      "source": [
        "Hence we were able to reduce the number of neutral news from the vader-lexicon model.The rnn model classifies about 81.82% of the news as positive and the rest as negative.Now we'll featch the stock data from Yahoo finance site and combine them with the news sentiment."
      ]
    },
    {
      "cell_type": "code",
      "metadata": {
        "colab": {
          "base_uri": "https://localhost:8080/"
        },
        "id": "C3a9ZqeMErYZ",
        "outputId": "24ad3910-2222-49eb-a5eb-77a10e3f4147"
      },
      "source": [
        "import yfinance as yf\n",
        "df_stock= yf.download(\"ADANIENT.NS\", start=\"2020-01-01\", end=\"2021-05-20\",group_by=\"ticker\")"
      ],
      "execution_count": null,
      "outputs": [
        {
          "output_type": "stream",
          "text": [
            "\r[*********************100%***********************]  1 of 1 completed\n"
          ],
          "name": "stdout"
        }
      ]
    },
    {
      "cell_type": "code",
      "metadata": {
        "colab": {
          "base_uri": "https://localhost:8080/",
          "height": 235
        },
        "id": "1QzqQKBXXCqA",
        "outputId": "f397a720-adb3-48a9-e063-b11b75cb2d73"
      },
      "source": [
        "df_stock['Daily Returns']=df_stock['Close']-df_stock['Close'].shift(1)\n",
        "df_stock.drop('Adj Close',axis=1,inplace=True)\n",
        "df_stock.drop('Open',axis=1,inplace=True)\n",
        "df_stock.drop('High',axis=1,inplace=True)\n",
        "df_stock.drop('Low',axis=1,inplace=True)\n",
        "df_stock.drop('Volume',axis=1,inplace=True)\n",
        "df_stock.head()"
      ],
      "execution_count": null,
      "outputs": [
        {
          "output_type": "execute_result",
          "data": {
            "text/html": [
              "<div>\n",
              "<style scoped>\n",
              "    .dataframe tbody tr th:only-of-type {\n",
              "        vertical-align: middle;\n",
              "    }\n",
              "\n",
              "    .dataframe tbody tr th {\n",
              "        vertical-align: top;\n",
              "    }\n",
              "\n",
              "    .dataframe thead th {\n",
              "        text-align: right;\n",
              "    }\n",
              "</style>\n",
              "<table border=\"1\" class=\"dataframe\">\n",
              "  <thead>\n",
              "    <tr style=\"text-align: right;\">\n",
              "      <th></th>\n",
              "      <th>Close</th>\n",
              "      <th>Daily Returns</th>\n",
              "    </tr>\n",
              "    <tr>\n",
              "      <th>Date</th>\n",
              "      <th></th>\n",
              "      <th></th>\n",
              "    </tr>\n",
              "  </thead>\n",
              "  <tbody>\n",
              "    <tr>\n",
              "      <th>2020-01-01</th>\n",
              "      <td>207.850006</td>\n",
              "      <td>NaN</td>\n",
              "    </tr>\n",
              "    <tr>\n",
              "      <th>2020-01-02</th>\n",
              "      <td>211.199997</td>\n",
              "      <td>3.349991</td>\n",
              "    </tr>\n",
              "    <tr>\n",
              "      <th>2020-01-03</th>\n",
              "      <td>208.300003</td>\n",
              "      <td>-2.899994</td>\n",
              "    </tr>\n",
              "    <tr>\n",
              "      <th>2020-01-06</th>\n",
              "      <td>199.550003</td>\n",
              "      <td>-8.750000</td>\n",
              "    </tr>\n",
              "    <tr>\n",
              "      <th>2020-01-07</th>\n",
              "      <td>204.050003</td>\n",
              "      <td>4.500000</td>\n",
              "    </tr>\n",
              "  </tbody>\n",
              "</table>\n",
              "</div>"
            ],
            "text/plain": [
              "                 Close  Daily Returns\n",
              "Date                                 \n",
              "2020-01-01  207.850006            NaN\n",
              "2020-01-02  211.199997       3.349991\n",
              "2020-01-03  208.300003      -2.899994\n",
              "2020-01-06  199.550003      -8.750000\n",
              "2020-01-07  204.050003       4.500000"
            ]
          },
          "metadata": {
            "tags": []
          },
          "execution_count": 32
        }
      ]
    },
    {
      "cell_type": "code",
      "metadata": {
        "id": "4lHUenS1ZC-g"
      },
      "source": [
        "df['Date'] = pd.to_datetime(df.Date, format='%Y-%m-%d')"
      ],
      "execution_count": null,
      "outputs": []
    },
    {
      "cell_type": "code",
      "metadata": {
        "id": "ZUtv2hmkYuBF"
      },
      "source": [
        "df_combo=pd.merge(df,df_stock,how='outer',on='Date')"
      ],
      "execution_count": null,
      "outputs": []
    },
    {
      "cell_type": "code",
      "metadata": {
        "id": "15Wk4P9GRPDj",
        "colab": {
          "base_uri": "https://localhost:8080/",
          "height": 204
        },
        "outputId": "1bfff4b6-357a-4d2b-f7b6-8efe6d497de6"
      },
      "source": [
        "df_combo.head()"
      ],
      "execution_count": null,
      "outputs": [
        {
          "output_type": "execute_result",
          "data": {
            "text/html": [
              "<div>\n",
              "<style scoped>\n",
              "    .dataframe tbody tr th:only-of-type {\n",
              "        vertical-align: middle;\n",
              "    }\n",
              "\n",
              "    .dataframe tbody tr th {\n",
              "        vertical-align: top;\n",
              "    }\n",
              "\n",
              "    .dataframe thead th {\n",
              "        text-align: right;\n",
              "    }\n",
              "</style>\n",
              "<table border=\"1\" class=\"dataframe\">\n",
              "  <thead>\n",
              "    <tr style=\"text-align: right;\">\n",
              "      <th></th>\n",
              "      <th>Time</th>\n",
              "      <th>Date</th>\n",
              "      <th>Headlines</th>\n",
              "      <th>News</th>\n",
              "      <th>Compound</th>\n",
              "      <th>Sentiment</th>\n",
              "      <th>Close</th>\n",
              "      <th>Daily Returns</th>\n",
              "    </tr>\n",
              "  </thead>\n",
              "  <tbody>\n",
              "    <tr>\n",
              "      <th>0</th>\n",
              "      <td>9.00 am</td>\n",
              "      <td>2020-11-06</td>\n",
              "      <td>Adani Enterpris Standalone September 2020 Net ...</td>\n",
              "      <td>Reported Standalone quarterly numbers for Ada...</td>\n",
              "      <td>0.830681</td>\n",
              "      <td>pos</td>\n",
              "      <td>352.100006</td>\n",
              "      <td>-0.649994</td>\n",
              "    </tr>\n",
              "    <tr>\n",
              "      <th>1</th>\n",
              "      <td>4.22 pm</td>\n",
              "      <td>2020-11-05</td>\n",
              "      <td>Adani Enterpris Consolidated September 2020 Ne...</td>\n",
              "      <td>Reported Consolidated quarterly numbers for A...</td>\n",
              "      <td>0.510388</td>\n",
              "      <td>pos</td>\n",
              "      <td>352.750000</td>\n",
              "      <td>0.899994</td>\n",
              "    </tr>\n",
              "    <tr>\n",
              "      <th>2</th>\n",
              "      <td>9.04 pm</td>\n",
              "      <td>2020-11-04</td>\n",
              "      <td>Adani Enterprises To Invest Rs 50,000 Crore On...</td>\n",
              "      <td>Adani Group's flagship firm Adani Enterprises...</td>\n",
              "      <td>0.326735</td>\n",
              "      <td>neg</td>\n",
              "      <td>351.850006</td>\n",
              "      <td>7.050018</td>\n",
              "    </tr>\n",
              "    <tr>\n",
              "      <th>3</th>\n",
              "      <td>6.40 pm</td>\n",
              "      <td>2020-11-04</td>\n",
              "      <td>Adani Enterprises Posts Rs 436 Crore Quarterly...</td>\n",
              "      <td>Turning profitable in the September quarter, ...</td>\n",
              "      <td>0.555708</td>\n",
              "      <td>pos</td>\n",
              "      <td>351.850006</td>\n",
              "      <td>7.050018</td>\n",
              "    </tr>\n",
              "    <tr>\n",
              "      <th>4</th>\n",
              "      <td>4.41 pm</td>\n",
              "      <td>2020-08-25</td>\n",
              "      <td>Kerala HC Refuses To Stay Privatisation Of Thi...</td>\n",
              "      <td>The Kerala High Court on Tuesday declined to ...</td>\n",
              "      <td>0.233357</td>\n",
              "      <td>neg</td>\n",
              "      <td>307.549988</td>\n",
              "      <td>58.849991</td>\n",
              "    </tr>\n",
              "  </tbody>\n",
              "</table>\n",
              "</div>"
            ],
            "text/plain": [
              "      Time       Date  ...       Close Daily Returns\n",
              "0  9.00 am 2020-11-06  ...  352.100006     -0.649994\n",
              "1  4.22 pm 2020-11-05  ...  352.750000      0.899994\n",
              "2  9.04 pm 2020-11-04  ...  351.850006      7.050018\n",
              "3  6.40 pm 2020-11-04  ...  351.850006      7.050018\n",
              "4  4.41 pm 2020-08-25  ...  307.549988     58.849991\n",
              "\n",
              "[5 rows x 8 columns]"
            ]
          },
          "metadata": {
            "tags": []
          },
          "execution_count": 35
        }
      ]
    },
    {
      "cell_type": "code",
      "metadata": {
        "id": "d0-tnw81Zhvz"
      },
      "source": [
        "df_combo=df_combo.sort_values('Date')"
      ],
      "execution_count": null,
      "outputs": []
    },
    {
      "cell_type": "markdown",
      "metadata": {
        "id": "W8Jb5YyjaNwk"
      },
      "source": [
        "Now , the compound score ranged from 0 to 1 on applying the rnn model.Let us convert the compound score range to -0.5 to 0.5."
      ]
    },
    {
      "cell_type": "code",
      "metadata": {
        "id": "iEatNmtyZ5MP"
      },
      "source": [
        "df_combo['Compound']=df_combo['Compound']-0.5"
      ],
      "execution_count": null,
      "outputs": []
    },
    {
      "cell_type": "code",
      "metadata": {
        "colab": {
          "base_uri": "https://localhost:8080/",
          "height": 204
        },
        "id": "Ov1PvXKaa3f9",
        "outputId": "52dfdefa-78b1-4aac-bbfa-eaf19885fca8"
      },
      "source": [
        "df_combo.head()"
      ],
      "execution_count": null,
      "outputs": [
        {
          "output_type": "execute_result",
          "data": {
            "text/html": [
              "<div>\n",
              "<style scoped>\n",
              "    .dataframe tbody tr th:only-of-type {\n",
              "        vertical-align: middle;\n",
              "    }\n",
              "\n",
              "    .dataframe tbody tr th {\n",
              "        vertical-align: top;\n",
              "    }\n",
              "\n",
              "    .dataframe thead th {\n",
              "        text-align: right;\n",
              "    }\n",
              "</style>\n",
              "<table border=\"1\" class=\"dataframe\">\n",
              "  <thead>\n",
              "    <tr style=\"text-align: right;\">\n",
              "      <th></th>\n",
              "      <th>Time</th>\n",
              "      <th>Date</th>\n",
              "      <th>Headlines</th>\n",
              "      <th>News</th>\n",
              "      <th>Compound</th>\n",
              "      <th>Sentiment</th>\n",
              "      <th>Close</th>\n",
              "      <th>Daily Returns</th>\n",
              "    </tr>\n",
              "  </thead>\n",
              "  <tbody>\n",
              "    <tr>\n",
              "      <th>33</th>\n",
              "      <td>NaN</td>\n",
              "      <td>2020-01-01</td>\n",
              "      <td>NaN</td>\n",
              "      <td>NaN</td>\n",
              "      <td>NaN</td>\n",
              "      <td>NaN</td>\n",
              "      <td>207.850006</td>\n",
              "      <td>NaN</td>\n",
              "    </tr>\n",
              "    <tr>\n",
              "      <th>34</th>\n",
              "      <td>NaN</td>\n",
              "      <td>2020-01-02</td>\n",
              "      <td>NaN</td>\n",
              "      <td>NaN</td>\n",
              "      <td>NaN</td>\n",
              "      <td>NaN</td>\n",
              "      <td>211.199997</td>\n",
              "      <td>3.349991</td>\n",
              "    </tr>\n",
              "    <tr>\n",
              "      <th>35</th>\n",
              "      <td>NaN</td>\n",
              "      <td>2020-01-03</td>\n",
              "      <td>NaN</td>\n",
              "      <td>NaN</td>\n",
              "      <td>NaN</td>\n",
              "      <td>NaN</td>\n",
              "      <td>208.300003</td>\n",
              "      <td>-2.899994</td>\n",
              "    </tr>\n",
              "    <tr>\n",
              "      <th>36</th>\n",
              "      <td>NaN</td>\n",
              "      <td>2020-01-06</td>\n",
              "      <td>NaN</td>\n",
              "      <td>NaN</td>\n",
              "      <td>NaN</td>\n",
              "      <td>NaN</td>\n",
              "      <td>199.550003</td>\n",
              "      <td>-8.750000</td>\n",
              "    </tr>\n",
              "    <tr>\n",
              "      <th>37</th>\n",
              "      <td>NaN</td>\n",
              "      <td>2020-01-07</td>\n",
              "      <td>NaN</td>\n",
              "      <td>NaN</td>\n",
              "      <td>NaN</td>\n",
              "      <td>NaN</td>\n",
              "      <td>204.050003</td>\n",
              "      <td>4.500000</td>\n",
              "    </tr>\n",
              "  </tbody>\n",
              "</table>\n",
              "</div>"
            ],
            "text/plain": [
              "   Time       Date Headlines  ... Sentiment       Close Daily Returns\n",
              "33  NaN 2020-01-01       NaN  ...       NaN  207.850006           NaN\n",
              "34  NaN 2020-01-02       NaN  ...       NaN  211.199997      3.349991\n",
              "35  NaN 2020-01-03       NaN  ...       NaN  208.300003     -2.899994\n",
              "36  NaN 2020-01-06       NaN  ...       NaN  199.550003     -8.750000\n",
              "37  NaN 2020-01-07       NaN  ...       NaN  204.050003      4.500000\n",
              "\n",
              "[5 rows x 8 columns]"
            ]
          },
          "metadata": {
            "tags": []
          },
          "execution_count": 38
        }
      ]
    },
    {
      "cell_type": "code",
      "metadata": {
        "colab": {
          "base_uri": "https://localhost:8080/",
          "height": 606
        },
        "id": "U_HDlwQistIx",
        "outputId": "f05ba44f-578e-439e-e4fa-db4bf3ca12be"
      },
      "source": [
        "\n",
        "fig, ax1 = plt.subplots(figsize=(16,10))\n",
        "plt.plot(df_combo['Date'],df_combo['Daily Returns'],color = 'b')\n",
        "ax2 = ax1.twinx()\n",
        "plt.bar(df_combo['Date'], df_combo['Compound'], color ='orange',width = 1)\n",
        "\n",
        "ax1_range = ax1.get_ylim()[1] - ax1.get_ylim()[0]\n",
        "fct = (0 - ax1.get_ylim()[0])/ax1_range\n",
        "\n",
        "ax2_ylim = ax2.get_ylim()\n",
        "# calculate new values for the second axis\n",
        "ax2_ylim_new = (ax2_ylim[0],(0 - ax2_ylim[0]) / fct + ax2_ylim[0])\n",
        "# set new limits\n",
        "ax2.set_ylim( ax2_ylim_new )\n",
        "\n",
        "ax1.set_xlabel('Date')\n",
        "ax1.set_ylabel('Daily Returns (Line graph)')\n",
        "ax2.set_ylabel('Sentiment (Bar-plot)')\n",
        "\n",
        "plt.axhline(y=0, color='g', linestyle='-')\n",
        "plt.show()"
      ],
      "execution_count": null,
      "outputs": [
        {
          "output_type": "display_data",
          "data": {
            "image/png": "[encoded data removed]",
            "text/plain": [
              "<Figure size 1152x720 with 2 Axes>"
            ]
          },
          "metadata": {
            "tags": [],
            "needs_background": "light"
          }
        }
      ]
    },
    {
      "cell_type": "markdown",
      "metadata": {
        "id": "2w6lLea9SMTZ"
      },
      "source": [
        "We will mark those points as anomaly in which the news sentiment cannot interpret the daily returns of the stock i.e when the sentiment of the news is positive but the daily returns on the day of release of the news is negative and vice-versa."
      ]
    },
    {
      "cell_type": "code",
      "metadata": {
        "id": "WHhdJNjuFqhk"
      },
      "source": [
        "def anomaly_detection(x):\n",
        "  if pd.notna(x[4]) and pd.notna(x[7]):\n",
        "    if x[4]>0.0 and x[7]<0.0:\n",
        "      return 1\n",
        "    elif x[4]<0.0 and x[7]>0.0:\n",
        "      return 1\n",
        "    else:\n",
        "      return 0\n",
        "  else:\n",
        "    return 0\n"
      ],
      "execution_count": null,
      "outputs": []
    },
    {
      "cell_type": "code",
      "metadata": {
        "id": "Y5N5VFQtGDW0"
      },
      "source": [
        "df_combo['Potential_anomaly'] = df_combo.apply(anomaly_detection, axis=1)"
      ],
      "execution_count": null,
      "outputs": []
    },
    {
      "cell_type": "code",
      "metadata": {
        "colab": {
          "base_uri": "https://localhost:8080/"
        },
        "id": "wRCPpXdo_Sx2",
        "outputId": "6927d87b-7445-452b-e663-4a2e4a37e9a2"
      },
      "source": [
        "df_combo.Potential_anomaly.value_counts()"
      ],
      "execution_count": null,
      "outputs": [
        {
          "output_type": "execute_result",
          "data": {
            "text/plain": [
              "0    335\n",
              "1     16\n",
              "Name: Potential_anomaly, dtype: int64"
            ]
          },
          "metadata": {
            "tags": []
          },
          "execution_count": 42
        }
      ]
    },
    {
      "cell_type": "code",
      "metadata": {
        "colab": {
          "base_uri": "https://localhost:8080/",
          "height": 543
        },
        "id": "k-KUfT2sOLLB",
        "outputId": "3c91bdec-b5db-46a9-988c-ac0fcda92f35"
      },
      "source": [
        "df_combo[df_combo['Potential_anomaly']==1]"
      ],
      "execution_count": null,
      "outputs": [
        {
          "output_type": "execute_result",
          "data": {
            "text/html": [
              "<div>\n",
              "<style scoped>\n",
              "    .dataframe tbody tr th:only-of-type {\n",
              "        vertical-align: middle;\n",
              "    }\n",
              "\n",
              "    .dataframe tbody tr th {\n",
              "        vertical-align: top;\n",
              "    }\n",
              "\n",
              "    .dataframe thead th {\n",
              "        text-align: right;\n",
              "    }\n",
              "</style>\n",
              "<table border=\"1\" class=\"dataframe\">\n",
              "  <thead>\n",
              "    <tr style=\"text-align: right;\">\n",
              "      <th></th>\n",
              "      <th>Time</th>\n",
              "      <th>Date</th>\n",
              "      <th>Headlines</th>\n",
              "      <th>News</th>\n",
              "      <th>Compound</th>\n",
              "      <th>Sentiment</th>\n",
              "      <th>Close</th>\n",
              "      <th>Daily Returns</th>\n",
              "      <th>Potential_anomaly</th>\n",
              "    </tr>\n",
              "  </thead>\n",
              "  <tbody>\n",
              "    <tr>\n",
              "      <th>18</th>\n",
              "      <td>7.56 pm</td>\n",
              "      <td>2020-01-16</td>\n",
              "      <td>CBI Books Adani Enterprises, 3 Ex-NCCF Officia...</td>\n",
              "      <td>The CBI has booked Ahmedabad-based Adani Ente...</td>\n",
              "      <td>-0.340015</td>\n",
              "      <td>neg</td>\n",
              "      <td>220.000000</td>\n",
              "      <td>3.399994</td>\n",
              "      <td>1</td>\n",
              "    </tr>\n",
              "    <tr>\n",
              "      <th>17</th>\n",
              "      <td>11.30 am</td>\n",
              "      <td>2020-01-20</td>\n",
              "      <td>Adani Enterprises Denies Wrongdoing Amid Alleg...</td>\n",
              "      <td>Adani Enterprises on Monday said that it has ...</td>\n",
              "      <td>0.241128</td>\n",
              "      <td>pos</td>\n",
              "      <td>226.550003</td>\n",
              "      <td>-1.849991</td>\n",
              "      <td>1</td>\n",
              "    </tr>\n",
              "    <tr>\n",
              "      <th>14</th>\n",
              "      <td>9.28 pm</td>\n",
              "      <td>2020-02-11</td>\n",
              "      <td>Adani Enterprises Arm Incorporates Three Wholl...</td>\n",
              "      <td>on Tuesday said its arm AAHL has incorporate...</td>\n",
              "      <td>-0.117103</td>\n",
              "      <td>neg</td>\n",
              "      <td>245.300003</td>\n",
              "      <td>0.800003</td>\n",
              "      <td>1</td>\n",
              "    </tr>\n",
              "    <tr>\n",
              "      <th>11</th>\n",
              "      <td>3.01 pm</td>\n",
              "      <td>2020-05-06</td>\n",
              "      <td>Adani Enterpris Consolidated March 2020 Net Sa...</td>\n",
              "      <td>Reported Consolidated quarterly numbers for A...</td>\n",
              "      <td>-0.377619</td>\n",
              "      <td>neg</td>\n",
              "      <td>133.250000</td>\n",
              "      <td>0.550003</td>\n",
              "      <td>1</td>\n",
              "    </tr>\n",
              "    <tr>\n",
              "      <th>9</th>\n",
              "      <td>7.30 pm</td>\n",
              "      <td>2020-05-06</td>\n",
              "      <td>Adani Enterprises To Raise Rs 1,000 Crore Thro...</td>\n",
              "      <td>on Wednesday said its board has given in pri...</td>\n",
              "      <td>-0.275780</td>\n",
              "      <td>neg</td>\n",
              "      <td>133.250000</td>\n",
              "      <td>0.550003</td>\n",
              "      <td>1</td>\n",
              "    </tr>\n",
              "    <tr>\n",
              "      <th>10</th>\n",
              "      <td>4.28 pm</td>\n",
              "      <td>2020-05-06</td>\n",
              "      <td>Adani Enterprises Q4 Net Profit Declines 64% T...</td>\n",
              "      <td>Adani Enterprises on Wednesday reported a 63....</td>\n",
              "      <td>-0.382560</td>\n",
              "      <td>neg</td>\n",
              "      <td>133.250000</td>\n",
              "      <td>0.550003</td>\n",
              "      <td>1</td>\n",
              "    </tr>\n",
              "    <tr>\n",
              "      <th>8</th>\n",
              "      <td>9.08 am</td>\n",
              "      <td>2020-05-26</td>\n",
              "      <td>Adani Enterpris Consolidated March 2020 Net Sa...</td>\n",
              "      <td>Reported Consolidated quarterly numbers for A...</td>\n",
              "      <td>-0.377619</td>\n",
              "      <td>neg</td>\n",
              "      <td>139.500000</td>\n",
              "      <td>1.399994</td>\n",
              "      <td>1</td>\n",
              "    </tr>\n",
              "    <tr>\n",
              "      <th>7</th>\n",
              "      <td>7.56 am</td>\n",
              "      <td>2020-06-03</td>\n",
              "      <td>COVID-19 Impact On Operations To Be Visible In...</td>\n",
              "      <td>Impact of COVID-19 and resultant lockdown is ...</td>\n",
              "      <td>-0.196997</td>\n",
              "      <td>neg</td>\n",
              "      <td>150.649994</td>\n",
              "      <td>0.699997</td>\n",
              "      <td>1</td>\n",
              "    </tr>\n",
              "    <tr>\n",
              "      <th>5</th>\n",
              "      <td>9.08 am</td>\n",
              "      <td>2020-08-07</td>\n",
              "      <td>Adani Enterpris Consolidated June 2020 Net Sal...</td>\n",
              "      <td>Reported Consolidated quarterly numbers for A...</td>\n",
              "      <td>-0.300858</td>\n",
              "      <td>neg</td>\n",
              "      <td>192.899994</td>\n",
              "      <td>6.949997</td>\n",
              "      <td>1</td>\n",
              "    </tr>\n",
              "    <tr>\n",
              "      <th>4</th>\n",
              "      <td>4.41 pm</td>\n",
              "      <td>2020-08-25</td>\n",
              "      <td>Kerala HC Refuses To Stay Privatisation Of Thi...</td>\n",
              "      <td>The Kerala High Court on Tuesday declined to ...</td>\n",
              "      <td>-0.266643</td>\n",
              "      <td>neg</td>\n",
              "      <td>307.549988</td>\n",
              "      <td>58.849991</td>\n",
              "      <td>1</td>\n",
              "    </tr>\n",
              "    <tr>\n",
              "      <th>2</th>\n",
              "      <td>9.04 pm</td>\n",
              "      <td>2020-11-04</td>\n",
              "      <td>Adani Enterprises To Invest Rs 50,000 Crore On...</td>\n",
              "      <td>Adani Group's flagship firm Adani Enterprises...</td>\n",
              "      <td>-0.173265</td>\n",
              "      <td>neg</td>\n",
              "      <td>351.850006</td>\n",
              "      <td>7.050018</td>\n",
              "      <td>1</td>\n",
              "    </tr>\n",
              "    <tr>\n",
              "      <th>0</th>\n",
              "      <td>9.00 am</td>\n",
              "      <td>2020-11-06</td>\n",
              "      <td>Adani Enterpris Standalone September 2020 Net ...</td>\n",
              "      <td>Reported Standalone quarterly numbers for Ada...</td>\n",
              "      <td>0.330681</td>\n",
              "      <td>pos</td>\n",
              "      <td>352.100006</td>\n",
              "      <td>-0.649994</td>\n",
              "      <td>1</td>\n",
              "    </tr>\n",
              "    <tr>\n",
              "      <th>23</th>\n",
              "      <td>7.33 pm</td>\n",
              "      <td>2021-02-03</td>\n",
              "      <td>Adani Enterpris Consolidated December 2020 Net...</td>\n",
              "      <td>Reported Consolidated quarterly numbers for A...</td>\n",
              "      <td>-0.281399</td>\n",
              "      <td>neg</td>\n",
              "      <td>566.599976</td>\n",
              "      <td>2.399963</td>\n",
              "      <td>1</td>\n",
              "    </tr>\n",
              "    <tr>\n",
              "      <th>24</th>\n",
              "      <td>3.48 pm</td>\n",
              "      <td>2021-02-03</td>\n",
              "      <td>Adani Enterprises Q3 Consolidated Profit Decli...</td>\n",
              "      <td>Adani Enterprises on Wednesday reported a 10....</td>\n",
              "      <td>-0.414010</td>\n",
              "      <td>neg</td>\n",
              "      <td>566.599976</td>\n",
              "      <td>2.399963</td>\n",
              "      <td>1</td>\n",
              "    </tr>\n",
              "    <tr>\n",
              "      <th>20</th>\n",
              "      <td>10.11 am</td>\n",
              "      <td>2021-02-05</td>\n",
              "      <td>Adani Enterpris Consolidated December 2020 Net...</td>\n",
              "      <td>Reported Consolidated quarterly numbers for A...</td>\n",
              "      <td>-0.281399</td>\n",
              "      <td>neg</td>\n",
              "      <td>595.349976</td>\n",
              "      <td>5.649963</td>\n",
              "      <td>1</td>\n",
              "    </tr>\n",
              "    <tr>\n",
              "      <th>19</th>\n",
              "      <td>12.40 pm</td>\n",
              "      <td>2021-05-06</td>\n",
              "      <td>Adani Enterpris Consolidated March 2021 Net Sa...</td>\n",
              "      <td>Reported Consolidated quarterly numbers for A...</td>\n",
              "      <td>-0.264758</td>\n",
              "      <td>neg</td>\n",
              "      <td>1286.750000</td>\n",
              "      <td>19.250000</td>\n",
              "      <td>1</td>\n",
              "    </tr>\n",
              "  </tbody>\n",
              "</table>\n",
              "</div>"
            ],
            "text/plain": [
              "        Time       Date  ... Daily Returns Potential_anomaly\n",
              "18   7.56 pm 2020-01-16  ...      3.399994                 1\n",
              "17  11.30 am 2020-01-20  ...     -1.849991                 1\n",
              "14   9.28 pm 2020-02-11  ...      0.800003                 1\n",
              "11   3.01 pm 2020-05-06  ...      0.550003                 1\n",
              "9    7.30 pm 2020-05-06  ...      0.550003                 1\n",
              "10   4.28 pm 2020-05-06  ...      0.550003                 1\n",
              "8    9.08 am 2020-05-26  ...      1.399994                 1\n",
              "7    7.56 am 2020-06-03  ...      0.699997                 1\n",
              "5    9.08 am 2020-08-07  ...      6.949997                 1\n",
              "4    4.41 pm 2020-08-25  ...     58.849991                 1\n",
              "2    9.04 pm 2020-11-04  ...      7.050018                 1\n",
              "0    9.00 am 2020-11-06  ...     -0.649994                 1\n",
              "23   7.33 pm 2021-02-03  ...      2.399963                 1\n",
              "24   3.48 pm 2021-02-03  ...      2.399963                 1\n",
              "20  10.11 am 2021-02-05  ...      5.649963                 1\n",
              "19  12.40 pm 2021-05-06  ...     19.250000                 1\n",
              "\n",
              "[16 rows x 9 columns]"
            ]
          },
          "metadata": {
            "tags": []
          },
          "execution_count": 43
        }
      ]
    },
    {
      "cell_type": "markdown",
      "metadata": {
        "id": "2JN26VHRJPTB"
      },
      "source": [
        "Hence the model could detect 9 potential anomalies"
      ]
    },
    {
      "cell_type": "code",
      "metadata": {
        "colab": {
          "base_uri": "https://localhost:8080/",
          "height": 606
        },
        "id": "BluJMT6_JO_Z",
        "outputId": "d6cdbbfc-8b95-4a04-9166-320b79908b2d"
      },
      "source": [
        "fig, ax1 = plt.subplots(figsize=(16,10))\n",
        "plt.plot(df_combo['Date'],df_combo['Daily Returns'],color = 'y')\n",
        "plt.scatter(x=df_combo[df_combo['Potential_anomaly']==1]['Date'], y=df_combo[df_combo['Potential_anomaly']==1]['Daily Returns'], color='r')\n",
        "\n",
        "ax2 = ax1.twinx()\n",
        "plt.bar(df_combo['Date'], df_combo['Compound'], color ='green',width = 1)\n",
        "\n",
        "ax1_range = ax1.get_ylim()[1] - ax1.get_ylim()[0]\n",
        "fct = (0 - ax1.get_ylim()[0])/ax1_range\n",
        "\n",
        "ax2_ylim = ax2.get_ylim()\n",
        "# calculate new values for the second axis\n",
        "ax2_ylim_new = (ax2_ylim[0],(0 - ax2_ylim[0]) / fct + ax2_ylim[0])\n",
        "# set new limits\n",
        "ax2.set_ylim( ax2_ylim_new )\n",
        "\n",
        "ax1.set_xlabel('Date')\n",
        "ax1.set_ylabel('Daily Returns(Line graph)')\n",
        "ax2.set_ylabel('Sentiment(Bar-plot)')\n",
        "\n",
        "\n",
        "#plt.scatter(x=df_combo[df_combo['Potential_anomaly']==1]['Date'], y=df_combo[df_combo['Potential_anomaly']==1]['Daily Returns'], color='r')\n",
        "plt.axhline(y=0, color='g', linestyle='-')\n",
        "plt.show()"
      ],
      "execution_count": null,
      "outputs": [
        {
          "output_type": "display_data",
          "data": {
            "image/png": "[encoded data removed]",
            "text/plain": [
              "<Figure size 1152x720 with 2 Axes>"
            ]
          },
          "metadata": {
            "tags": [],
            "needs_background": "light"
          }
        }
      ]
    },
    {
      "cell_type": "markdown",
      "metadata": {
        "id": "Z_WqqPOsQsBC"
      },
      "source": [
        "Hence 16 anomaly points can be detected from this analysis."
      ]
    },
    {
      "cell_type": "code",
      "metadata": {
        "id": "jzCt-B-CWtyR"
      },
      "source": [
        "model.save('RNN_for_news_sentiment.h5')"
      ],
      "execution_count": null,
      "outputs": []
    }
  ]
}